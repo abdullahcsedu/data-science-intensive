{
 "cells": [
  {
   "cell_type": "markdown",
   "metadata": {},
   "source": [
    "### Supervised Learning :NAIVE BAYES ALGORITHM\n",
    "## 1. Author ID Accuracy "
   ]
  },
  {
   "cell_type": "code",
   "execution_count": 18,
   "metadata": {
    "collapsed": false
   },
   "outputs": [
    {
     "name": "stdout",
     "output_type": "stream",
     "text": [
      "no. of Chris training emails: 7936\n",
      "no. of Sara training emails: 7884\n",
      "Accuracy is :  0.973265073948\n"
     ]
    }
   ],
   "source": [
    "\n",
    "import sys\n",
    "from time import time\n",
    "sys.path.append(\"../tools/\")\n",
    "from email_preprocess import preprocess\n",
    "from sklearn.naive_bayes import GaussianNB\n",
    "from sklearn.metrics import accuracy_score\n",
    "\n",
    "import numpy as np\n",
    "import pylab as pl\n",
    "\n",
    "\n",
    "### features_train and features_test are the features for the training\n",
    "### and testing datasets, respectively\n",
    "### labels_train and labels_test are the corresponding item labels\n",
    "features_train, features_test, labels_train, labels_test = preprocess()\n",
    "\n",
    "\n",
    "\n",
    "def NBAccuracy(features_train, labels_train, features_test, labels_test):\n",
    "#########################################################\n",
    "### your code goes here ###\n",
    "    clf = GaussianNB()\n",
    "    clf.fit(features_train, labels_train)\n",
    "    pred = clf.predict(features_test)\n",
    "    accuracy = accuracy_score(  pred  , labels_test )\n",
    "    return accuracy ;\n",
    "\n",
    "print 'Accuracy is : ' ,NBAccuracy(features_train, labels_train, features_test, labels_test)\n",
    "\n",
    "\n",
    "#########################################################\n"
   ]
  },
  {
   "cell_type": "markdown",
   "metadata": {},
   "source": [
    "## Timing the NB Classifier\n"
   ]
  },
  {
   "cell_type": "code",
   "execution_count": 19,
   "metadata": {
    "collapsed": false
   },
   "outputs": [
    {
     "name": "stdout",
     "output_type": "stream",
     "text": [
      "training time :  3.142\n",
      "prediction time :  0.528\n"
     ]
    },
    {
     "data": {
      "text/plain": [
       "'training time is higher than prediction time'"
      ]
     },
     "execution_count": 19,
     "metadata": {},
     "output_type": "execute_result"
    }
   ],
   "source": [
    "def NBTimeClassifier (features_train, labels_train, features_test, labels_test):\n",
    "    clf = GaussianNB()\n",
    "    t0 = time()\n",
    "    clf.fit(features_train, labels_train)\n",
    "    t1 = round(time()-t0, 3)\n",
    "    print 'training time : ', t1 \n",
    "    t2 =  time()\n",
    "    pred = clf.predict(features_test)\n",
    "    t3 = round(time()-t2, 3)\n",
    "    print 'prediction time : ' ,t3 \n",
    "    \n",
    "    if t3 > t1 :\n",
    "        return 'prediction time is higher than training time' ;\n",
    "    else :\n",
    "        return  'training time is higher than prediction time'\n",
    "\n",
    "NBTimeClassifier (features_train, labels_train, features_test, labels_test)\n"
   ]
  },
  {
   "cell_type": "code",
   "execution_count": null,
   "metadata": {
    "collapsed": true
   },
   "outputs": [],
   "source": []
  },
  {
   "cell_type": "code",
   "execution_count": null,
   "metadata": {
    "collapsed": true
   },
   "outputs": [],
   "source": []
  }
 ],
 "metadata": {
  "kernelspec": {
   "display_name": "Python 2",
   "language": "python",
   "name": "python2"
  },
  "language_info": {
   "codemirror_mode": {
    "name": "ipython",
    "version": 2
   },
   "file_extension": ".py",
   "mimetype": "text/x-python",
   "name": "python",
   "nbconvert_exporter": "python",
   "pygments_lexer": "ipython2",
   "version": "2.7.11"
  }
 },
 "nbformat": 4,
 "nbformat_minor": 0
}
