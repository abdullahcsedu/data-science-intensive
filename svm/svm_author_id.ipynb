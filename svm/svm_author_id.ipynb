{
 "cells": [
  {
   "cell_type": "code",
   "execution_count": 2,
   "metadata": {
    "collapsed": false
   },
   "outputs": [
    {
     "name": "stdout",
     "output_type": "stream",
     "text": [
      "('no. of Chris training emails:', 7936)\n",
      "('no. of Sara training emails:', 7884)\n",
      "Training Time rbf   0.19\n",
      "Prediction Time  rbf 1.685\n",
      "1 0 1\n",
      "accuracy for rbf  0.892491467577\n",
      "Training Time For linear  0.17\n",
      "Prediction Time  for linear 1.755\n",
      "accuracy is 0.884527872582\n"
     ]
    }
   ],
   "source": [
    "#!/usr/bin/python\n",
    "\n",
    "\"\"\" \n",
    "    This is the code to accompany the Lesson 2 (SVM) mini-project.\n",
    "\n",
    "    Use a SVM to identify emails from the Enron corpus by their authors:    \n",
    "    Sara has label 0\n",
    "    Chris has label 1\n",
    "\"\"\"\n",
    "    \n",
    "import sys\n",
    "from time import time\n",
    "sys.path.append(\"../tools/\")\n",
    "from email_preprocess import preprocess\n",
    "from sklearn.svm import SVC\n",
    "from sklearn.metrics import accuracy_score\n",
    "\n",
    "\n",
    "\n",
    "### features_train and features_test are the features for the training\n",
    "### and testing datasets, respectively\n",
    "### labels_train and labels_test are the corresponding item labels\n",
    "features_train, features_test, labels_train, labels_test = preprocess()\n",
    "\n",
    "\n",
    "\n",
    "\n",
    "#########################################################\n",
    "### your code goes here ###\n",
    "###########clf = SVC(kernel =\"linear\")\n",
    "features_train = features_train[:len(features_train)/100] \n",
    "labels_train = labels_train[:len(labels_train)/100] \n",
    "clf = SVC(C =10000.0 ,kernel ='rbf')\n",
    "start_time_train = time()\n",
    "clf.fit(features_train ,labels_train ) \n",
    "end_time_train =  time() \n",
    "print \"Training Time rbf  \" , round (end_time_train - start_time_train  , 3 )\n",
    "#########################################################\n",
    "start_time_pred = time()\n",
    "pred = clf.predict(features_test)\n",
    "end_time_pred =  time() \n",
    "print \"Prediction Time  rbf\" , round (end_time_pred - start_time_pred  , 3 )\n",
    "answer = pred[9]\n",
    "## o or 1 for which class\n",
    "print pred[10] ,  pred[26] , pred[50]\n",
    "accuracy = accuracy_score(  pred  , labels_test )\n",
    "print \"accuracy for rbf \" , accuracy\n",
    "\n",
    "\n",
    "clf1 = SVC(kernel =\"linear\")\n",
    "start_time_train = time()\n",
    "clf1.fit(features_train ,labels_train ) \n",
    "end_time_train =  time() \n",
    "print \"Training Time For linear \" , round (end_time_train - start_time_train  , 3 )\n",
    "#########################################################\n",
    "start_time_pred = time()\n",
    "pred = clf1.predict(features_test)\n",
    "end_time_pred =  time() \n",
    "print \"Prediction Time  for linear\" , round (end_time_pred - start_time_pred  , 3 )\n",
    "accuracy = accuracy_score(  pred  , labels_test )\n",
    "print \"accuracy is\" , accuracy\n",
    "\n"
   ]
  },
  {
   "cell_type": "code",
   "execution_count": null,
   "metadata": {
    "collapsed": true
   },
   "outputs": [],
   "source": []
  }
 ],
 "metadata": {
  "kernelspec": {
   "display_name": "Python 2",
   "language": "python",
   "name": "python2"
  },
  "language_info": {
   "codemirror_mode": {
    "name": "ipython",
    "version": 2
   },
   "file_extension": ".py",
   "mimetype": "text/x-python",
   "name": "python",
   "nbconvert_exporter": "python",
   "pygments_lexer": "ipython2",
   "version": "2.7.11"
  }
 },
 "nbformat": 4,
 "nbformat_minor": 0
}
