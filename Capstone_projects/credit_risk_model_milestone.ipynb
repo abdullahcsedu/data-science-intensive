{
 "cells": [
  {
   "cell_type": "markdown",
   "metadata": {},
   "source": [
    "## Data Science Capstone Final Project \n",
    "\n"
   ]
  },
  {
   "cell_type": "markdown",
   "metadata": {},
   "source": [
    "### 1. Abstract :\n",
    "                    "
   ]
  },
  {
   "cell_type": "markdown",
   "metadata": {},
   "source": [
    "### 2. Objective :"
   ]
  },
  {
   "cell_type": "markdown",
   "metadata": {},
   "source": [
    "### 3. Data Preprocessing :\n",
    "Pre-processing refers to the transformations applied to the data before feeding it to the algorithm. Data Preprocessing Includes Data Collection , Cleaning ,Conversion of features , Imputing missing data ,features standardizations , feature scaling and identify new potential features.\n",
    "\n",
    "#### Available Data set\n",
    "   For this article, I have used a Data From (Need to be added ) data set from You can download the final training and testing data set from here:           \n",
    "                \n",
    "Lets get started by importing important packages and the data set."
   ]
  },
  {
   "cell_type": "code",
   "execution_count": 1,
   "metadata": {
    "collapsed": false
   },
   "outputs": [
    {
     "name": "stdout",
     "output_type": "stream",
     "text": [
      "Populating the interactive namespace from numpy and matplotlib\n"
     ]
    }
   ],
   "source": [
    "%pylab inline \n",
    "import pandas as pd\n",
    "import numpy as np\n",
    "\n",
    "from scipy import stats, integrate\n",
    "import matplotlib.pyplot as plt\n",
    "\n",
    "import seaborn as sns\n",
    "# special matplotlib argument for improved plots\n",
    "from matplotlib import rcParams\n",
    "import statsmodels.api as sm\n",
    "from sklearn.linear_model import LogisticRegression\n",
    "from sklearn.cross_validation import train_test_split\n",
    "from sklearn import metrics\n",
    "from sklearn.cross_validation import cross_val_score\n",
    "from sklearn import preprocessing\n",
    "from sklearn.ensemble import RandomForestClassifier\n",
    "from sklearn.linear_model import LogisticRegression\n",
    "from sklearn.metrics import roc_auc_score\n",
    "from sklearn.metrics import recall_score\n",
    "from sklearn.metrics import precision_score\n",
    "from sklearn.metrics import f1_score\n",
    "from sklearn.metrics import roc_curve\n",
    "from sklearn.metrics import auc\n",
    "\n",
    "from sklearn.tree import DecisionTreeClassifier\n",
    "#import xgboost as xgb\n",
    "#from xgboost.sklearn import XGBClassifier\n",
    "from sklearn.feature_selection import SelectKBest, chi2\n",
    "from sklearn.linear_model import RidgeClassifier\n",
    "from sklearn.utils.extmath import density\n",
    "\n",
    "import sys\n",
    "from time import time\n",
    "from sklearn.grid_search import GridSearchCV\n",
    "from sklearn.learning_curve import learning_curve"
   ]
  },
  {
   "cell_type": "markdown",
   "metadata": {},
   "source": [
    "## Data loading and Data cleaning :\n",
    "Data is loaded into the DataFrame. Then we have  this renamed All variables  for Better Understanding.\n",
    "- Convert the Loan Status as Charged off as 1 and Fully repaid as 0 .\n",
    "- Removing non numeric charaters from from Features like  $ , ',' ,! and other alphabets which are not suitable for data analasis.\n"
   ]
  },
  {
   "cell_type": "code",
   "execution_count": 2,
   "metadata": {
    "collapsed": false,
    "scrolled": true
   },
   "outputs": [
    {
     "name": "stdout",
     "output_type": "stream",
     "text": [
      "<class 'pandas.core.frame.DataFrame'>\n",
      "Int64Index: 256984 entries, 0 to 256983\n",
      "Data columns (total 20 columns):\n",
      "loan_id                         256984 non-null object\n",
      "customer_id                     256984 non-null object\n",
      "loan_status                     256984 non-null object\n",
      "current_loan_amount             256984 non-null int64\n",
      "term                            256984 non-null object\n",
      "credit_score                    195308 non-null float64\n",
      "years_in_current_job            256984 non-null object\n",
      "home_ownership                  256984 non-null object\n",
      "annual_income                   195308 non-null float64\n",
      "purpose                         256984 non-null object\n",
      "monthly_debt                    256984 non-null float64\n",
      "years_of_credit_history         256984 non-null float64\n",
      "months_since_last_delinquent    116601 non-null float64\n",
      "number_of_open_accounts         256984 non-null int64\n",
      "number_of_credit_problems       256984 non-null int64\n",
      "current_credit_balance          256984 non-null int64\n",
      "maximum_open_credit             256980 non-null float64\n",
      "bankruptcies                    256455 non-null float64\n",
      "tax_liens                       256961 non-null float64\n",
      "defaulter_or_not                256984 non-null int64\n",
      "dtypes: float64(8), int64(5), object(7)\n",
      "memory usage: 41.2+ MB\n"
     ]
    }
   ],
   "source": [
    "# data uploded into the data frame  \n",
    "loan_data_df  = pd.read_csv('LoansTrainingSet.csv')\n",
    "\n",
    "#convert the loan status into number;\n",
    "loan_data_df['flag'] = loan_data_df['Loan Status'].replace(['Charged Off' ,'Fully Paid'], \n",
    "                     [1, 0]) ;\n",
    "\n",
    "# Rename All Columns :\n",
    "loan_data =loan_data_df.rename(columns = {'Loan ID':'loan_id' ,\\\n",
    "                                          'Customer ID' :'customer_id' ,\\\n",
    "                                          'Loan Status' :'loan_status',\\\n",
    "                                          'Current Loan Amount' : 'current_loan_amount' ,\\\n",
    "                                          'Term' :'term',\\\n",
    "                                          'Credit Score':'credit_score' ,\\\n",
    "                                          'Years in current job' : 'years_in_current_job',\\\n",
    "                                          'Home Ownership' :'home_ownership' ,\\\n",
    "                                          'Annual Income' :'annual_income' ,\\\n",
    "                                          'Purpose' :'purpose',\\\n",
    "                                          'Monthly Debt' :'monthly_debt',\\\n",
    "                                          'Years of Credit History' :'years_of_credit_history' ,\\\n",
    "                                          'Months since last delinquent' :'months_since_last_delinquent',\n",
    "                                          'Number of Open Accounts' : 'number_of_open_accounts' ,\n",
    "                                          'Number of Credit Problems': 'number_of_credit_problems',\n",
    "                                          'Current Credit Balance' : 'current_credit_balance' ,\n",
    "                                          'Maximum Open Credit' :'maximum_open_credit',\n",
    "                                          'Bankruptcies':'bankruptcies',\n",
    "                                          'Tax Liens' :'tax_liens',\n",
    "                                          'flag' :'defaulter_or_not'\n",
    "\n",
    "                                           \n",
    "                                           })\n",
    "\n",
    "\n",
    "\n",
    "\n",
    "\n",
    "# Removing non numeric characters from the features columns\n",
    "# This should be uncomment\n",
    "loan_data['purpose'] =   map(lambda x: x.lower(), loan_data['purpose'])\n",
    "#loan_data['monthly_debt'] = [x[1:] for x in loan_data['monthly_debt']]\n",
    "#loan_data['monthly_debt'] = loan_data[\"monthly_debt\"].str.replace(\",\", \"\").astype(float)\n",
    "#loan_data = loan_data[loan_data['maximum_open_credit'] != '#VALUE!']\n",
    "loan_data.info()"
   ]
  },
  {
   "cell_type": "code",
   "execution_count": 3,
   "metadata": {
    "collapsed": false
   },
   "outputs": [
    {
     "name": "stdout",
     "output_type": "stream",
     "text": [
      "<class 'pandas.core.frame.DataFrame'>\n",
      "Int64Index: 256984 entries, 0 to 256983\n",
      "Data columns (total 18 columns):\n",
      "loan_status                     256984 non-null object\n",
      "current_loan_amount             256984 non-null int64\n",
      "term                            256984 non-null object\n",
      "credit_score                    195308 non-null float64\n",
      "years_in_current_job            256984 non-null object\n",
      "home_ownership                  256984 non-null object\n",
      "annual_income                   195308 non-null float64\n",
      "purpose                         256984 non-null object\n",
      "monthly_debt                    256984 non-null float64\n",
      "years_of_credit_history         256984 non-null float64\n",
      "months_since_last_delinquent    116601 non-null float64\n",
      "number_of_open_accounts         256984 non-null int64\n",
      "number_of_credit_problems       256984 non-null int64\n",
      "current_credit_balance          256984 non-null int64\n",
      "maximum_open_credit             256980 non-null float64\n",
      "bankruptcies                    256455 non-null float64\n",
      "tax_liens                       256961 non-null float64\n",
      "defaulter_or_not                256984 non-null int64\n",
      "dtypes: float64(8), int64(5), object(5)\n",
      "memory usage: 37.3+ MB\n"
     ]
    }
   ],
   "source": [
    "# Drop few columns which are not necessary for Modelling data .\n",
    "\n",
    "loan_data.drop('loan_id' , axis =1 , inplace=True)\n",
    "loan_data.drop('customer_id',axis =1 , inplace=True)\n",
    "loan_data.info()"
   ]
  },
  {
   "cell_type": "markdown",
   "metadata": {},
   "source": [
    "## Years in current job :  \n",
    "We could leave 'years_in_current_job' as categorical data, but it shouldn't be treated as such or as ordinal data since the intervals are easy to determine. We can convert it into numerical data with a simple filter\n",
    "\n"
   ]
  },
  {
   "cell_type": "code",
   "execution_count": 4,
   "metadata": {
    "collapsed": false
   },
   "outputs": [
    {
     "data": {
      "text/plain": [
       "10+ years    78896\n",
       "2 years      23462\n",
       "< 1 year     21012\n",
       "3 years      20659\n",
       "5 years      17864\n",
       "1 year       16746\n",
       "4 years      16166\n",
       "6 years      14597\n",
       "7 years      13968\n",
       "8 years      12206\n",
       "n/a          11476\n",
       "9 years       9932\n",
       "Name: years_in_current_job, dtype: int64"
      ]
     },
     "execution_count": 4,
     "metadata": {},
     "output_type": "execute_result"
    }
   ],
   "source": [
    "loan_data.years_in_current_job.value_counts()\n",
    " "
   ]
  },
  {
   "cell_type": "code",
   "execution_count": 5,
   "metadata": {
    "collapsed": false
   },
   "outputs": [
    {
     "data": {
      "text/plain": [
       "10    78896\n",
       "1     37758\n",
       "2     23462\n",
       "3     20659\n",
       "5     17864\n",
       "4     16166\n",
       "6     14597\n",
       "7     13968\n",
       "8     12206\n",
       "0     11476\n",
       "9      9932\n",
       "Name: years_in_current_job, dtype: int64"
      ]
     },
     "execution_count": 5,
     "metadata": {},
     "output_type": "execute_result"
    }
   ],
   "source": [
    "loan_data.replace('n/a', np.nan,inplace=True)\n",
    "loan_data.years_in_current_job.fillna(value=0,inplace=True)\n",
    "loan_data['years_in_current_job'].replace(to_replace='[^0-9]+', value='', inplace=True, regex=True)\n",
    "loan_data['years_in_current_job'] = loan_data['years_in_current_job'].astype(int)\n",
    "loan_data.years_in_current_job.value_counts()\n"
   ]
  },
  {
   "cell_type": "markdown",
   "metadata": {},
   "source": [
    "Let us analyze the purpose columns and analyze it impacts"
   ]
  },
  {
   "cell_type": "code",
   "execution_count": 6,
   "metadata": {
    "collapsed": false
   },
   "outputs": [
    {
     "name": "stdout",
     "output_type": "stream",
     "text": [
      "debt consolidation      203911\n",
      "other                    23935\n",
      "home improvements        14915\n",
      "business loan             4712\n",
      "buy a car                 3276\n",
      "medical bills             2868\n",
      "take a trip               1570\n",
      "buy house                 1530\n",
      "educational expenses       267\n",
      "Name: purpose, dtype: int64\n",
      "\n"
     ]
    }
   ],
   "source": [
    "print loan_data.purpose.value_counts()\n",
    "print ''\n"
   ]
  },
  {
   "cell_type": "markdown",
   "metadata": {},
   "source": [
    "#### Encoding categorical features :\n",
    "\n",
    "We have 4 Categorical features .Purpose , Term , home_ownership ,years_in_current_job . We will convert them into distinct features using  one hot encoding method and later we will drop the parent column.Before drop this let us understand what is the impact of this features into the data ."
   ]
  },
  {
   "cell_type": "code",
   "execution_count": 7,
   "metadata": {
    "collapsed": false
   },
   "outputs": [
    {
     "data": {
      "text/html": [
       "<div>\n",
       "<table border=\"1\" class=\"dataframe\">\n",
       "  <thead>\n",
       "    <tr style=\"text-align: right;\">\n",
       "      <th>purpose</th>\n",
       "      <th>business loan</th>\n",
       "      <th>buy a car</th>\n",
       "      <th>buy house</th>\n",
       "      <th>debt consolidation</th>\n",
       "      <th>educational expenses</th>\n",
       "      <th>home improvements</th>\n",
       "      <th>medical bills</th>\n",
       "      <th>other</th>\n",
       "      <th>take a trip</th>\n",
       "    </tr>\n",
       "    <tr>\n",
       "      <th>loan_status</th>\n",
       "      <th></th>\n",
       "      <th></th>\n",
       "      <th></th>\n",
       "      <th></th>\n",
       "      <th></th>\n",
       "      <th></th>\n",
       "      <th></th>\n",
       "      <th></th>\n",
       "      <th></th>\n",
       "    </tr>\n",
       "  </thead>\n",
       "  <tbody>\n",
       "    <tr>\n",
       "      <th>Charged Off</th>\n",
       "      <td>0.841298</td>\n",
       "      <td>0.270834</td>\n",
       "      <td>0.173941</td>\n",
       "      <td>24.979765</td>\n",
       "      <td>0.031909</td>\n",
       "      <td>1.582978</td>\n",
       "      <td>0.375899</td>\n",
       "      <td>2.989291</td>\n",
       "      <td>0.193008</td>\n",
       "    </tr>\n",
       "    <tr>\n",
       "      <th>Fully Paid</th>\n",
       "      <td>0.992280</td>\n",
       "      <td>1.003954</td>\n",
       "      <td>0.421427</td>\n",
       "      <td>54.367976</td>\n",
       "      <td>0.071989</td>\n",
       "      <td>4.220885</td>\n",
       "      <td>0.740124</td>\n",
       "      <td>6.324518</td>\n",
       "      <td>0.417925</td>\n",
       "    </tr>\n",
       "  </tbody>\n",
       "</table>\n",
       "</div>"
      ],
      "text/plain": [
       "purpose      business loan  buy a car  buy house  debt consolidation  \\\n",
       "loan_status                                                            \n",
       "Charged Off       0.841298   0.270834   0.173941           24.979765   \n",
       "Fully Paid        0.992280   1.003954   0.421427           54.367976   \n",
       "\n",
       "purpose      educational expenses  home improvements  medical bills     other  \\\n",
       "loan_status                                                                     \n",
       "Charged Off              0.031909           1.582978       0.375899  2.989291   \n",
       "Fully Paid               0.071989           4.220885       0.740124  6.324518   \n",
       "\n",
       "purpose      take a trip  \n",
       "loan_status               \n",
       "Charged Off     0.193008  \n",
       "Fully Paid      0.417925  "
      ]
     },
     "execution_count": 7,
     "metadata": {},
     "output_type": "execute_result"
    }
   ],
   "source": [
    "def calculate_percentage(r ) :\n",
    "    return r *100 / len(loan_data)\n",
    "\n",
    "def one_hot_encoding(df, colname ) :\n",
    "    df[colname] =  df[colname].str.lower()\n",
    "    df[colname] =  df[colname].str.replace(\" \" ,\"_\")\n",
    "    df = pd.concat([df, pd.get_dummies(df[colname]).rename(columns=lambda x:   str(x))], axis=1) \n",
    "    df.drop(colname,axis =1 , inplace=True)\n",
    "    \n",
    "    return df\n",
    "\n",
    "\n",
    "pd.crosstab(loan_data[\"loan_status\"],loan_data[\"purpose\"] ).apply(calculate_percentage)\n",
    "\n",
    "\n",
    "\n",
    "\n"
   ]
  },
  {
   "cell_type": "code",
   "execution_count": 8,
   "metadata": {
    "collapsed": false
   },
   "outputs": [
    {
     "data": {
      "text/plain": [
       "<matplotlib.axes._subplots.AxesSubplot at 0xb1c42e8>"
      ]
     },
     "execution_count": 8,
     "metadata": {},
     "output_type": "execute_result"
    },
    {
     "data": {
      "image/png": "[encoded data removed]",
      "text/plain": [
       "<matplotlib.figure.Figure at 0x436d0b8>"
      ]
     },
     "metadata": {},
     "output_type": "display_data"
    }
   ],
   "source": [
    "pd.crosstab(loan_data[\"loan_status\"],loan_data[\"purpose\"] ).apply(calculate_percentage).plot()\n"
   ]
  },
  {
   "cell_type": "code",
   "execution_count": 9,
   "metadata": {
    "collapsed": false
   },
   "outputs": [
    {
     "name": "stdout",
     "output_type": "stream",
     "text": [
      "<class 'pandas.core.frame.DataFrame'>\n",
      "Int64Index: 256984 entries, 0 to 256983\n",
      "Data columns (total 26 columns):\n",
      "loan_status                     256984 non-null object\n",
      "current_loan_amount             256984 non-null int64\n",
      "term                            256984 non-null object\n",
      "credit_score                    195308 non-null float64\n",
      "years_in_current_job            256984 non-null int32\n",
      "home_ownership                  256984 non-null object\n",
      "annual_income                   195308 non-null float64\n",
      "monthly_debt                    256984 non-null float64\n",
      "years_of_credit_history         256984 non-null float64\n",
      "months_since_last_delinquent    116601 non-null float64\n",
      "number_of_open_accounts         256984 non-null int64\n",
      "number_of_credit_problems       256984 non-null int64\n",
      "current_credit_balance          256984 non-null int64\n",
      "maximum_open_credit             256980 non-null float64\n",
      "bankruptcies                    256455 non-null float64\n",
      "tax_liens                       256961 non-null float64\n",
      "defaulter_or_not                256984 non-null int64\n",
      "business_loan                   256984 non-null float64\n",
      "buy_a_car                       256984 non-null float64\n",
      "buy_house                       256984 non-null float64\n",
      "debt_consolidation              256984 non-null float64\n",
      "educational_expenses            256984 non-null float64\n",
      "home_improvements               256984 non-null float64\n",
      "medical_bills                   256984 non-null float64\n",
      "other                           256984 non-null float64\n",
      "take_a_trip                     256984 non-null float64\n",
      "dtypes: float64(17), int32(1), int64(5), object(3)\n",
      "memory usage: 52.0+ MB\n"
     ]
    }
   ],
   "source": [
    "loan_data =  one_hot_encoding(loan_data, 'purpose' )\n",
    "loan_data.info()"
   ]
  },
  {
   "cell_type": "markdown",
   "metadata": {},
   "source": [
    "Similarly we can Convert term , home_ownership into categorical variables. and before this let us obseve the pattern \n",
    "of the data and observe the trends .\n"
   ]
  },
  {
   "cell_type": "code",
   "execution_count": 10,
   "metadata": {
    "collapsed": false
   },
   "outputs": [
    {
     "data": {
      "text/html": [
       "<div>\n",
       "<table border=\"1\" class=\"dataframe\">\n",
       "  <thead>\n",
       "    <tr style=\"text-align: right;\">\n",
       "      <th>term</th>\n",
       "      <th>Long Term</th>\n",
       "      <th>Short Term</th>\n",
       "    </tr>\n",
       "    <tr>\n",
       "      <th>loan_status</th>\n",
       "      <th></th>\n",
       "      <th></th>\n",
       "    </tr>\n",
       "  </thead>\n",
       "  <tbody>\n",
       "    <tr>\n",
       "      <th>Charged Off</th>\n",
       "      <td>11.569981</td>\n",
       "      <td>19.868941</td>\n",
       "    </tr>\n",
       "    <tr>\n",
       "      <th>Fully Paid</th>\n",
       "      <td>13.471267</td>\n",
       "      <td>55.089811</td>\n",
       "    </tr>\n",
       "  </tbody>\n",
       "</table>\n",
       "</div>"
      ],
      "text/plain": [
       "term         Long Term  Short Term\n",
       "loan_status                       \n",
       "Charged Off  11.569981   19.868941\n",
       "Fully Paid   13.471267   55.089811"
      ]
     },
     "execution_count": 10,
     "metadata": {},
     "output_type": "execute_result"
    }
   ],
   "source": [
    "pd.crosstab(loan_data[\"loan_status\"],loan_data[\"term\"] ).apply(calculate_percentage)"
   ]
  },
  {
   "cell_type": "code",
   "execution_count": 11,
   "metadata": {
    "collapsed": false
   },
   "outputs": [
    {
     "data": {
      "text/plain": [
       "<matplotlib.axes._subplots.AxesSubplot at 0x12eb7160>"
      ]
     },
     "execution_count": 11,
     "metadata": {},
     "output_type": "execute_result"
    },
    {
     "data": {
      "image/png": "[encoded data removed]",
      "text/plain": [
       "<matplotlib.figure.Figure at 0x12f47160>"
      ]
     },
     "metadata": {},
     "output_type": "display_data"
    }
   ],
   "source": [
    "pd.crosstab(loan_data[\"loan_status\"],loan_data[\"term\"] ).apply(calculate_percentage).plot()"
   ]
  },
  {
   "cell_type": "code",
   "execution_count": 12,
   "metadata": {
    "collapsed": false
   },
   "outputs": [
    {
     "data": {
      "text/html": [
       "<div>\n",
       "<table border=\"1\" class=\"dataframe\">\n",
       "  <thead>\n",
       "    <tr style=\"text-align: right;\">\n",
       "      <th>home_ownership</th>\n",
       "      <th>HaveMortgage</th>\n",
       "      <th>Home Mortgage</th>\n",
       "      <th>Own Home</th>\n",
       "      <th>Rent</th>\n",
       "    </tr>\n",
       "    <tr>\n",
       "      <th>loan_status</th>\n",
       "      <th></th>\n",
       "      <th></th>\n",
       "      <th></th>\n",
       "      <th></th>\n",
       "    </tr>\n",
       "  </thead>\n",
       "  <tbody>\n",
       "    <tr>\n",
       "      <th>Charged Off</th>\n",
       "      <td>0.058369</td>\n",
       "      <td>13.685677</td>\n",
       "      <td>2.914189</td>\n",
       "      <td>14.780687</td>\n",
       "    </tr>\n",
       "    <tr>\n",
       "      <th>Fully Paid</th>\n",
       "      <td>0.164991</td>\n",
       "      <td>34.751969</td>\n",
       "      <td>6.005821</td>\n",
       "      <td>27.638297</td>\n",
       "    </tr>\n",
       "  </tbody>\n",
       "</table>\n",
       "</div>"
      ],
      "text/plain": [
       "home_ownership  HaveMortgage  Home Mortgage  Own Home       Rent\n",
       "loan_status                                                     \n",
       "Charged Off         0.058369      13.685677  2.914189  14.780687\n",
       "Fully Paid          0.164991      34.751969  6.005821  27.638297"
      ]
     },
     "execution_count": 12,
     "metadata": {},
     "output_type": "execute_result"
    }
   ],
   "source": [
    "pd.crosstab(loan_data[\"loan_status\"],loan_data[\"home_ownership\"] ).apply(calculate_percentage)\n"
   ]
  },
  {
   "cell_type": "code",
   "execution_count": 13,
   "metadata": {
    "collapsed": false
   },
   "outputs": [
    {
     "data": {
      "text/plain": [
       "<matplotlib.axes._subplots.AxesSubplot at 0x11832c18>"
      ]
     },
     "execution_count": 13,
     "metadata": {},
     "output_type": "execute_result"
    },
    {
     "data": {
      "image/png": "[encoded data removed]",
      "text/plain": [
       "<matplotlib.figure.Figure at 0xe82eba8>"
      ]
     },
     "metadata": {},
     "output_type": "display_data"
    }
   ],
   "source": [
    "pd.crosstab(loan_data[\"loan_status\"],loan_data[\"home_ownership\"] ).apply(calculate_percentage).plot()"
   ]
  },
  {
   "cell_type": "code",
   "execution_count": 14,
   "metadata": {
    "collapsed": false
   },
   "outputs": [
    {
     "data": {
      "text/plain": [
       "<matplotlib.axes._subplots.AxesSubplot at 0x11ca6240>"
      ]
     },
     "execution_count": 14,
     "metadata": {},
     "output_type": "execute_result"
    },
    {
     "data": {
      "image/png": "[encoded data removed]",
      "text/plain": [
       "<matplotlib.figure.Figure at 0xeeb19b0>"
      ]
     },
     "metadata": {},
     "output_type": "display_data"
    }
   ],
   "source": [
    "pd.crosstab(loan_data[\"loan_status\"],loan_data[\"term\"] ).apply(calculate_percentage).plot()\n"
   ]
  },
  {
   "cell_type": "code",
   "execution_count": 15,
   "metadata": {
    "collapsed": false
   },
   "outputs": [
    {
     "name": "stdout",
     "output_type": "stream",
     "text": [
      "<class 'pandas.core.frame.DataFrame'>\n",
      "Int64Index: 256984 entries, 0 to 256983\n",
      "Data columns (total 30 columns):\n",
      "loan_status                     256984 non-null object\n",
      "current_loan_amount             256984 non-null int64\n",
      "credit_score                    195308 non-null float64\n",
      "years_in_current_job            256984 non-null int32\n",
      "annual_income                   195308 non-null float64\n",
      "monthly_debt                    256984 non-null float64\n",
      "years_of_credit_history         256984 non-null float64\n",
      "months_since_last_delinquent    116601 non-null float64\n",
      "number_of_open_accounts         256984 non-null int64\n",
      "number_of_credit_problems       256984 non-null int64\n",
      "current_credit_balance          256984 non-null int64\n",
      "maximum_open_credit             256980 non-null float64\n",
      "bankruptcies                    256455 non-null float64\n",
      "tax_liens                       256961 non-null float64\n",
      "defaulter_or_not                256984 non-null int64\n",
      "business_loan                   256984 non-null float64\n",
      "buy_a_car                       256984 non-null float64\n",
      "buy_house                       256984 non-null float64\n",
      "debt_consolidation              256984 non-null float64\n",
      "educational_expenses            256984 non-null float64\n",
      "home_improvements               256984 non-null float64\n",
      "medical_bills                   256984 non-null float64\n",
      "other                           256984 non-null float64\n",
      "take_a_trip                     256984 non-null float64\n",
      "long_term                       256984 non-null float64\n",
      "short_term                      256984 non-null float64\n",
      "havemortgage                    256984 non-null float64\n",
      "home_mortgage                   256984 non-null float64\n",
      "own_home                        256984 non-null float64\n",
      "rent                            256984 non-null float64\n",
      "dtypes: float64(23), int32(1), int64(5), object(1)\n",
      "memory usage: 59.8+ MB\n"
     ]
    }
   ],
   "source": [
    "loan_data =  one_hot_encoding(loan_data, 'term' ) ;\n",
    "loan_data = one_hot_encoding(loan_data, 'home_ownership' ) ;\n",
    "loan_data.info()\n"
   ]
  },
  {
   "cell_type": "markdown",
   "metadata": {},
   "source": [
    "## months_since_last_delinquent :\n",
    "    Let us now compare the delinquent distribution accross all applicants .\n",
    "    "
   ]
  },
  {
   "cell_type": "code",
   "execution_count": 16,
   "metadata": {
    "collapsed": false
   },
   "outputs": [],
   "source": [
    "## Need to add here "
   ]
  },
  {
   "cell_type": "markdown",
   "metadata": {},
   "source": [
    "We need to fill the missed Values before we start farther exploration of Data"
   ]
  },
  {
   "cell_type": "markdown",
   "metadata": {},
   "source": [
    "### Drop Unnecessray Columns\n",
    "\n",
    "- We have found two columns which is not necessary for our Analysis. There for we dropped this column from our analysis ."
   ]
  },
  {
   "cell_type": "code",
   "execution_count": null,
   "metadata": {
    "collapsed": true
   },
   "outputs": [],
   "source": []
  },
  {
   "cell_type": "code",
   "execution_count": 17,
   "metadata": {
    "collapsed": false
   },
   "outputs": [],
   "source": [
    "## Imputations of Missing Values :\n",
    "\n",
    "loan_data['annual_income'].fillna((loan_data['annual_income'].mean()), inplace=True)\n",
    "loan_data['months_since_last_delinquent'].fillna((loan_data['months_since_last_delinquent'].mean()), inplace=True)\n",
    "loan_data['credit_score'].fillna((loan_data['credit_score'].mean()), inplace=True)\n",
    "loan_data['bankruptcies'].fillna((loan_data['bankruptcies'].median()), inplace=True)\n",
    "loan_data['tax_liens'].fillna((loan_data['tax_liens'].median()), inplace=True)\n",
    "loan_data['maximum_open_credit'].fillna((0), inplace=True)\n",
    "\n"
   ]
  },
  {
   "cell_type": "markdown",
   "metadata": {},
   "source": [
    "### 4.Exploratory Data Analaysis"
   ]
  },
  {
   "cell_type": "markdown",
   "metadata": {},
   "source": [
    "### 5.Our Model :\n",
    "if we walk through the broken out steps above you'll find that we have:\n",
    "   1. ddressed missing data\n",
    "   2. onverted strings to numerical representations where possible\n",
    "   3. Dropped superfluous attributes\n",
    "   \n",
    "   \n",
    "We have to pay special attention to how we replace missing values since we can introduce bias if the data is not missing at random. he usual next steps are to:\n",
    " 4. Eliminate zero (or near-zero) variance predictors\n",
    " 5. Highly and correlated predictors\n",
    " "
   ]
  },
  {
   "cell_type": "code",
   "execution_count": 18,
   "metadata": {
    "collapsed": false
   },
   "outputs": [
    {
     "data": {
      "text/plain": [
       "bankruptcies  number_of_credit_problems    0.755787\n",
       "tax_liens     number_of_credit_problems    0.584912\n",
       "other         debt_consolidation          -0.628169\n",
       "short_term    long_term                   -1.000000\n",
       "havemortgage  take_a_trip                  0.603477\n",
       "rent          home_mortgage               -0.831889\n",
       "dtype: float64"
      ]
     },
     "execution_count": 18,
     "metadata": {},
     "output_type": "execute_result"
    }
   ],
   "source": [
    "cor = loan_data.corr()\n",
    "cor.loc[:,:] = np.tril(cor, k=-1) # below main lower triangle of an array\n",
    "cor = cor.stack()\n",
    "cor[(cor > 0.55) | (cor < -0.55)]"
   ]
  },
  {
   "cell_type": "code",
   "execution_count": 19,
   "metadata": {
    "collapsed": false
   },
   "outputs": [],
   "source": [
    "loan_data.drop(['bankruptcies','tax_liens','other', 'take_a_trip', 'short_term', 'home_mortgage'], axis=1, inplace=True)"
   ]
  },
  {
   "cell_type": "code",
   "execution_count": 20,
   "metadata": {
    "collapsed": false
   },
   "outputs": [
    {
     "name": "stdout",
     "output_type": "stream",
     "text": [
      "<class 'pandas.core.frame.DataFrame'>\n",
      "Int64Index: 256984 entries, 0 to 256983\n",
      "Data columns (total 24 columns):\n",
      "loan_status                     256984 non-null object\n",
      "current_loan_amount             256984 non-null int64\n",
      "credit_score                    256984 non-null float64\n",
      "years_in_current_job            256984 non-null int32\n",
      "annual_income                   256984 non-null float64\n",
      "monthly_debt                    256984 non-null float64\n",
      "years_of_credit_history         256984 non-null float64\n",
      "months_since_last_delinquent    256984 non-null float64\n",
      "number_of_open_accounts         256984 non-null int64\n",
      "number_of_credit_problems       256984 non-null int64\n",
      "current_credit_balance          256984 non-null int64\n",
      "maximum_open_credit             256984 non-null float64\n",
      "defaulter_or_not                256984 non-null int64\n",
      "business_loan                   256984 non-null float64\n",
      "buy_a_car                       256984 non-null float64\n",
      "buy_house                       256984 non-null float64\n",
      "debt_consolidation              256984 non-null float64\n",
      "educational_expenses            256984 non-null float64\n",
      "home_improvements               256984 non-null float64\n",
      "medical_bills                   256984 non-null float64\n",
      "long_term                       256984 non-null float64\n",
      "havemortgage                    256984 non-null float64\n",
      "own_home                        256984 non-null float64\n",
      "rent                            256984 non-null float64\n",
      "dtypes: float64(17), int32(1), int64(5), object(1)\n",
      "memory usage: 48.0+ MB\n"
     ]
    }
   ],
   "source": [
    "loan_data.info()"
   ]
  },
  {
   "cell_type": "code",
   "execution_count": 21,
   "metadata": {
    "collapsed": true
   },
   "outputs": [],
   "source": [
    "loan_data.drop(['loan_status'], axis=1, inplace=True)"
   ]
  },
  {
   "cell_type": "markdown",
   "metadata": {},
   "source": [
    "### Preparation of Test and Train Data :\n",
    "1. We first seperate features and target .\n",
    "2. Devide the data set into test and train set ."
   ]
  },
  {
   "cell_type": "code",
   "execution_count": 22,
   "metadata": {
    "collapsed": false
   },
   "outputs": [],
   "source": [
    "features = list(loan_data.columns)\n",
    "features.remove('defaulter_or_not');\n",
    "\n",
    "target =  'defaulter_or_not'\n",
    "\n",
    "\n",
    "X =  loan_data[list(features)].values\n",
    "y = loan_data[target].values\n",
    "\n",
    "\n",
    "\n",
    "train_X, test_X, train_Y, test_Y =  train_test_split(X, y, test_size= .5, random_state=0)\n",
    "\n",
    "\n",
    "\n"
   ]
  },
  {
   "cell_type": "markdown",
   "metadata": {},
   "source": [
    "Now We have Created some method for Benchmarking our classifier and Evaluate model to compare different parameter ."
   ]
  },
  {
   "cell_type": "code",
   "execution_count": 23,
   "metadata": {
    "collapsed": true
   },
   "outputs": [],
   "source": [
    "# Benchmark classifiers\n",
    "def benchmark(clf, name ):\n",
    "\n",
    "    print('_' * 80)\n",
    "    print(\"Training: \")\n",
    "    print(clf)\n",
    "    t0 = time()\n",
    "    if name == \"XGboost Classifier\" :\n",
    "        clf.fit(train_X, train_Y ,eval_metric='auc' )\n",
    "    else :\n",
    "        clf.fit(train_X, train_Y)\n",
    "            \n",
    "    train_time = time() - t0\n",
    "    print(\"train time: %0.3fs\" % train_time)\n",
    "    print()\n",
    "    t0 = time()\n",
    "    y_pred = clf.predict(test_X)\n",
    "    test_time = time() - t0\n",
    "    print(\"test time:  %0.3fs\" % test_time)\n",
    "    \n",
    "    score = metrics.accuracy_score(test_Y, y_pred)\n",
    "    print(\"accuracy:   %0.3f\" % score)\n",
    "    if hasattr(clf, 'coef_'):\n",
    "        print(\"dimensionality: %d\" % clf.coef_.shape[1])\n",
    "        print(\"density: %f\" % density(clf.coef_))\n",
    "    roc = roc_auc_score(test_Y, y_pred)\n",
    "    print (\"AUC Score (Roc): %0.3f\" % roc )\n",
    "    recall = recall_score(test_Y, y_pred)\n",
    "\n",
    "    print (\"recall score :%0.3f \" % recall )\n",
    "    f1 = f1_score(test_Y, y_pred) \n",
    "    print (\"F1 score :%0.3f\"  %  f1 )\n",
    "    precision = precision_score(test_Y, y_pred)\n",
    "    print (  \"Precision score : %0.3f \" % precision )\n",
    "    \n",
    "    clf_descr = str(clf).split('(')[0]\n",
    "    return clf_descr,score , train_time ,test_time , roc ,  recall , f1, precision  "
   ]
  },
  {
   "cell_type": "code",
   "execution_count": 24,
   "metadata": {
    "collapsed": true
   },
   "outputs": [],
   "source": [
    "def calculate_fpr_tpr (clf , name ) :\n",
    "    \n",
    "    if name == \"XGboost Classifier\" :\n",
    "        clf.fit(train_X, train_Y ,eval_metric='auc' )\n",
    "    else :\n",
    "        clf.fit(train_X, train_Y)\n",
    "    \n",
    "    \n",
    "    if hasattr(clf, \"decision_function\"):\n",
    "        y_score = clf.decision_function(test_X)\n",
    "    else:\n",
    "        y_score = clf.predict_proba(test_X)[:, 1]\n",
    "    \n",
    "    \n",
    "    \n",
    "    fpr = dict()\n",
    "    tpr = dict()\n",
    "    roc_auc = dict()\n",
    "    n_classes =  2\n",
    "    for i in range(n_classes):\n",
    "        fpr[i], tpr[i], _ = roc_curve(test_Y, y_score)\n",
    "        roc_auc[i] = auc(fpr[i], tpr[i])\n",
    "    \n",
    "# Compute micro-average ROC curve and ROC area\n",
    "    fpr[\"micro\"], tpr[\"micro\"], _ = roc_curve(test_Y.ravel(), y_score.ravel())\n",
    "    roc_auc[\"micro\"] = auc(fpr[\"micro\"], tpr[\"micro\"])\n",
    "    \n",
    "    clf_descr = str(clf).split('(')[0]\n",
    "    return clf_descr ,fpr , tpr , roc_auc \n"
   ]
  },
  {
   "cell_type": "code",
   "execution_count": null,
   "metadata": {
    "collapsed": true
   },
   "outputs": [],
   "source": []
  },
  {
   "cell_type": "code",
   "execution_count": 25,
   "metadata": {
    "collapsed": true
   },
   "outputs": [],
   "source": [
    "\n",
    "import warnings\n",
    "warnings.filterwarnings(\"ignore\")\n",
    "def plot_learning_curve(estimator, title, X, y, ylim=None, cv=None,\n",
    "                        n_jobs=1, train_sizes=np.linspace(.1, 1.0, 10)):\n",
    "    \"\"\"\n",
    "    Generate a simple plot of the test and training learning curve.\n",
    "    Parameters\n",
    "    ----------\n",
    "    estimator : object type that implements the \"fit\" and \"predict\" methods\n",
    "        An object of that type which is cloned for each validation.\n",
    "    title : string\n",
    "        Title for the chart.\n",
    "    X : array-like, shape (n_samples, n_features)\n",
    "        Training vector, where n_samples is the number of samples and\n",
    "        n_features is the number of features.\n",
    "    y : array-like, shape (n_samples) or (n_samples, n_features), optional\n",
    "        Target relative to X for classification or regression;\n",
    "        None for unsupervised learning.\n",
    "    ylim : tuple, shape (ymin, ymax), optional\n",
    "        Defines minimum and maximum yvalues plotted.\n",
    "    cv : int, cross-validation generator or an iterable, optional\n",
    "        Determines the cross-validation splitting strategy.\n",
    "        Possible inputs for cv are:\n",
    "          - None, to use the default 3-fold cross-validation,\n",
    "          - integer, to specify the number of folds.\n",
    "          - An object to be used as a cross-validation generator.\n",
    "          - An iterable yielding train/test splits.\n",
    "        For integer/None inputs, if ``y`` is binary or multiclass,\n",
    "        :class:`StratifiedKFold` used. If the estimator is not a classifier\n",
    "        or if ``y`` is neither binary nor multiclass, :class:`KFold` is used.\n",
    "        Refer :ref:`User Guide <cross_validation>` for the various\n",
    "        cross-validators that can be used here.\n",
    "    n_jobs : integer, optional\n",
    "        Number of jobs to run in parallel (default 1).\n",
    "    \"\"\"\n",
    "    plt.figure()\n",
    "    plt.title(title)\n",
    "    if ylim is not None:\n",
    "        plt.ylim(*ylim)\n",
    "    plt.xlabel(\"Training examples\")\n",
    "    plt.ylabel(\"Score\")\n",
    "    train_sizes, train_scores, test_scores = learning_curve(\n",
    "        estimator, X, y, cv=cv, n_jobs=n_jobs, train_sizes=train_sizes)\n",
    "   \n",
    "    train_scores_mean = np.mean(train_scores, axis=1)\n",
    "    train_scores_std = np.std(train_scores, axis=1)\n",
    "    test_scores_mean = np.mean(test_scores, axis=1)\n",
    "    test_scores_std = np.std(test_scores, axis=1)\n",
    "    plt.grid()\n",
    "\n",
    "    plt.fill_between(train_sizes, train_scores_mean - train_scores_std,\n",
    "                     train_scores_mean + train_scores_std, alpha=0.6,\n",
    "                     color=\"dodgerblue\")\n",
    "    plt.fill_between(train_sizes, test_scores_mean - test_scores_std,\n",
    "                     test_scores_mean + test_scores_std, alpha=0.6, color=\"firebrick\")\n",
    "    plt.plot(train_sizes, train_scores_mean, 'o-', color=\"r\",\n",
    "             label=\"Training score\" , alpha = .6 )\n",
    "    plt.plot(train_sizes, test_scores_mean, 'o-', color=\"g\",\n",
    "             label=\"Cross-validation score\" , alpha = .6)\n",
    "\n",
    "    plt.legend(loc=\"best\")\n",
    "    return plt"
   ]
  },
  {
   "cell_type": "markdown",
   "metadata": {},
   "source": [
    "## Decision Trees :\n",
    "   Decision tree is a type of supervised learning algorithm (having a pre-defined target variable) that is mostly used in classification problems. It works for both categorical and continuous input and output variables. In this technique, we split the population or sample into two or more homogeneous sets (or sub-populations) based on most significant splitter / differentiator in input variables.\n",
    "   \n",
    "How does a tree decide where to split : \n",
    "   The decision of making strategic splits heavily affects a tree’s accuracy. Decision trees use multiple algorithms to decide to split a node in two or more sub-nodes. The creation of sub-nodes increases the homogeneity of resultant sub-nodes. In other words, we can say that purity of the node increases with respect to the target variable. Decision tree splits the nodes on all available variables and then selects the split which results in most homogeneous sub-nodes.  \n",
    "   \n",
    "   Gini Index :\n",
    "   if we select two items from a population at random then they must be of same class and probability for this is 1 if population is pure.\n",
    "   \n",
    "   Chi-Square :\n",
    "   It is an algorithm to find out the statistical significance between the differences between sub-nodes and parent node. We measure it by sum of squares of standardized differences between observed and expected frequencies of target variable.\n",
    "   \n",
    "   Information Gain:\n",
    "   Look at the image below and think which node can be described easily. I am sure, your answer is C because it requires less information as all values are similar.\n",
    "   \n",
    "   Reduction in Variance :\n",
    "   Till now, we have discussed the algorithms for categorical target variable. Reduction in variance is an algorithm used for continuous target variables (regression problems). This algorithm uses the standard formula of variance to choose the best split. The split with lower variance is selected as the criteria to split the population:\n",
    "   \n",
    "   \\begin{equation*}\n",
    "   varience = \\frac{\\displaystyle\\sum_{i=1}^{n}(x_i - \\mu)^2} {n}\n",
    "   \\end{equation*}\n",
    "   "
   ]
  },
  {
   "cell_type": "code",
   "execution_count": 26,
   "metadata": {
    "collapsed": false,
    "scrolled": true
   },
   "outputs": [
    {
     "name": "stdout",
     "output_type": "stream",
     "text": [
      "================================================================================\n",
      "________________________________________________________________________________\n",
      "Training: \n",
      "DecisionTreeClassifier(class_weight=None, criterion='entropy', max_depth=5,\n",
      "            max_features=None, max_leaf_nodes=20, min_samples_leaf=1,\n",
      "            min_samples_split=2, min_weight_fraction_leaf=0.0,\n",
      "            presort=False, random_state=None, splitter='best')\n",
      "train time: 1.558s\n",
      "()\n",
      "test time:  0.024s\n",
      "accuracy:   0.757\n",
      "AUC Score (Roc): 0.641\n",
      "recall score :0.328 \n",
      "F1 score :0.459\n",
      "Precision score : 0.762 \n"
     ]
    }
   ],
   "source": [
    "clf = DecisionTreeClassifier(criterion =  \"entropy\" , min_samples_split = 2\\\n",
    "                             ,max_depth= 5 ,max_leaf_nodes = 20 ,min_samples_leaf = 1 )\n",
    "name =  \"Decision Tree Classifier\"\n",
    "print('=' * 80)\n",
    "benchmark(clf ,name )\n",
    "\n",
    "\n",
    "\n",
    "\n",
    "param_grid = {\"criterion\": [\"gini\", \"entropy\"],\n",
    "              \"min_samples_split\": [2, 10, 20],\n",
    "              \"max_depth\": [None, 2, 5, 10],\n",
    "              \"min_samples_leaf\": [1, 5, 10],\n",
    "              \"max_leaf_nodes\": [None, 5, 10, 20],\n",
    "              }\n",
    "\n",
    "\n",
    "grid_search = GridSearchCV(clf,param_grid=param_grid,cv= 5)\n",
    "start = time() ;\n",
    "grid_search.fit(X, y) ;\n",
    "grid_search.best_params_ ;\n",
    "\n"
   ]
  },
  {
   "cell_type": "markdown",
   "metadata": {},
   "source": [
    "#### Train error vs Test error :\n",
    "how the performance of an estimator on unseen data (test data) is not the same as the performance on training data.By using decision tree we have seen due to optimal use of Parameter we have found not that much significant differnce between test and train data .\n",
    "\n",
    "#### Key parameters of tree modeling :\n",
    "Overfitting is one of the key challenges faced while modeling decision trees. If there is no limit set of a decision tree, it will give you 100% accuracy on training set because in the worse case it will end up making 1 leaf for each observation. Thus, preventing overfitting is pivotal while modeling a decision tree and it can be done in 2 ways:\n",
    "\n",
    "1. Setting constraints on tree size\n",
    "2. Tree pruning\n"
   ]
  },
  {
   "cell_type": "code",
   "execution_count": 27,
   "metadata": {
    "collapsed": false
   },
   "outputs": [
    {
     "data": {
      "text/plain": [
       "<module 'matplotlib.pyplot' from 'C:\\Users\\User\\Anaconda2\\lib\\site-packages\\matplotlib\\pyplot.pyc'>"
      ]
     },
     "execution_count": 27,
     "metadata": {},
     "output_type": "execute_result"
    },
    {
     "data": {
      "text/plain": [
       "<matplotlib.figure.Figure at 0xed81940>"
      ]
     },
     "metadata": {},
     "output_type": "display_data"
    },
    {
     "data": {
      "image/png": "[encoded data removed]",
      "text/plain": [
       "<matplotlib.figure.Figure at 0xe84ceb8>"
      ]
     },
     "metadata": {},
     "output_type": "display_data"
    }
   ],
   "source": [
    "\n",
    "\n",
    "plt.figure(figsize=(14, 6)).subplots_adjust(wspace=.3)\n",
    "title = \"Decision Tree Classifier \"\n",
    "plot_learning_curve(clf, title, X, y, ylim=(0.6, 1.01), cv=10, n_jobs = 4)\n",
    "\n",
    "\n",
    " "
   ]
  },
  {
   "cell_type": "markdown",
   "metadata": {},
   "source": [
    "### Random Forest Classifier :\n",
    "Random Forest is a versatile machine learning method capable of performing both regression and classification tasks. It also undertakes dimensional reduction methods, treats missing values, outlier values and other essential steps of data exploration, and does a fairly good job. It is a type of ensemble learning method, where a group of weak models combine to form a powerful model.\n",
    "To classify a new object based on attributes, each tree gives a classification and we say the tree “votes” for that class. The forest chooses the classification having the most votes (over all the trees in the forest) and in case of regression, it takes the average of outputs by different trees.\n",
    "\n",
    "It works in the following manner. Each tree is planted & grown as follows:\n",
    "   1. Assume number of cases in the training set is N. Then, sample of these N cases is taken at random but with replacement. This sample will be the training set for growing the tree.\n",
    "   2. If there are M input variables, a number m<M is specified such that at each node, m variables are selected at random out of the M. The best split on these m is used to split the node. The value of m is held constant while we grow the forest.\n",
    "   3. Each tree is grown to the largest extent possible and  there is no pruning.\n",
    "   4. Predict new data by aggregating the predictions of the ntree trees (i.e., majority votes for classification, average for regression).\n",
    "\n",
    "#### Advantages of Random Forest :\n",
    "- One of benefits of Random forest which excites me most is, the power of handle large data set with higher dimensionality. It can handle thousands of input variables and identify most significant variables so it is considered as one of the dimensionality reduction methods.\n",
    "- It has an effective method for estimating missing data and maintains accuracy when a large proportion of the data are missing.\n",
    "- The capabilities of the above can be extended to unlabeled data, leading to unsupervised clustering, data views and outlier detection.\n",
    "\n",
    "#### Disadvantages of Random Forest\n",
    "\n",
    "- It surely does a good job at classification but not as good as for regression problem as it does not give precise continuous nature predictions.\n",
    "- In case of regression, it doesn’t predict beyond the range in the training data, and that they may over-fit data sets that are particularly noisy.\n",
    "- Random Forest can feel like a black box approach for statistical modelers – you have very little control on what the model does. You can at best – try different parameters and random seeds!\n",
    "\n",
    "   \n"
   ]
  },
  {
   "cell_type": "code",
   "execution_count": null,
   "metadata": {
    "collapsed": false
   },
   "outputs": [],
   "source": [
    "clf1 = RandomForestClassifier(n_estimators=20)\n",
    "name =  \"Random Forest Classifier\"\n",
    "print('=' * 80)\n",
    "benchmark(clf1 ,name )\n"
   ]
  },
  {
   "cell_type": "code",
   "execution_count": null,
   "metadata": {
    "collapsed": true
   },
   "outputs": [],
   "source": []
  },
  {
   "cell_type": "code",
   "execution_count": null,
   "metadata": {
    "collapsed": false
   },
   "outputs": [],
   "source": [
    "plt.figure(figsize=(14, 6)).subplots_adjust(wspace=.3)\n",
    "title = \"Random Forest Classifier Learning curve \"\n",
    "plot_learning_curve(clf1, title, X, y, ylim=(0.6, 1.01), cv=10, n_jobs = 4)"
   ]
  },
  {
   "cell_type": "markdown",
   "metadata": {},
   "source": [
    "                                                                                                                                                                                                                                                                                  \n",
    "                                                                                                                                                                                                                                                                                  "
   ]
  },
  {
   "cell_type": "code",
   "execution_count": null,
   "metadata": {
    "collapsed": true
   },
   "outputs": [],
   "source": []
  },
  {
   "cell_type": "code",
   "execution_count": null,
   "metadata": {
    "collapsed": true
   },
   "outputs": [],
   "source": []
  },
  {
   "cell_type": "code",
   "execution_count": null,
   "metadata": {
    "collapsed": true
   },
   "outputs": [],
   "source": [
    "\n",
    "\n",
    "\n"
   ]
  },
  {
   "cell_type": "code",
   "execution_count": null,
   "metadata": {
    "collapsed": false
   },
   "outputs": [],
   "source": []
  },
  {
   "cell_type": "markdown",
   "metadata": {},
   "source": [
    "### 6.Evaluation Metrics"
   ]
  },
  {
   "cell_type": "code",
   "execution_count": null,
   "metadata": {
    "collapsed": true
   },
   "outputs": [],
   "source": []
  },
  {
   "cell_type": "markdown",
   "metadata": {},
   "source": []
  },
  {
   "cell_type": "markdown",
   "metadata": {},
   "source": [
    " ### 7.Cost and Benifit Analysis"
   ]
  }
 ],
 "metadata": {
  "anaconda-cloud": {},
  "kernelspec": {
   "display_name": "Python 2",
   "language": "python",
   "name": "python2"
  },
  "language_info": {
   "codemirror_mode": {
    "name": "ipython",
    "version": 2
   },
   "file_extension": ".py",
   "mimetype": "text/x-python",
   "name": "python",
   "nbconvert_exporter": "python",
   "pygments_lexer": "ipython2",
   "version": "2.7.12"
  }
 },
 "nbformat": 4,
 "nbformat_minor": 0
}
