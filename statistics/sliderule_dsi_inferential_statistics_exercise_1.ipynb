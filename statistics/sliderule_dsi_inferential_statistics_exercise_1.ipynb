{
 "cells": [
  {
   "cell_type": "markdown",
   "metadata": {},
   "source": [
    "## What is the true normal human body temperature? \n",
    "\n",
    "#### Background\n",
    "\n",
    "The mean normal body temperature was held to be 37$^{\\circ}$C or 98.6$^{\\circ}$F for more than 120 years since it was first conceptualized and reported by Carl Wunderlich in a famous 1868 book. In 1992, this value was revised to 36.8$^{\\circ}$C or 98.2$^{\\circ}$F. \n",
    "\n",
    "#### Exercise\n",
    "In this exercise, you will analyze a dataset of human body temperatures and employ the concepts of hypothesis testing, confidence intervals, and statistical significance.\n",
    "\n",
    "Answer the following questions **in this notebook below and submit to your Github account**. \n",
    "\n",
    "1.  Is the distribution of body temperatures normal? \n",
    "    - Remember that this is a condition for the CLT, and hence the statistical tests we are using, to apply. \n",
    "2.  Is the true population mean really 98.6 degrees F?\n",
    "    - Bring out the one sample hypothesis test! In this situation, is it approriate to apply a z-test or a t-test? How will the result be different?\n",
    "3.  At what temperature should we consider someone's temperature to be \"abnormal\"?\n",
    "    - Start by computing the margin of error and confidence interval.\n",
    "4.  Is there a significant difference between males and females in normal temperature?\n",
    "    - Set up and solve for a two sample hypothesis testing.\n",
    "\n",
    "You can include written notes in notebook cells using Markdown: \n",
    "   - In the control panel at the top, choose Cell > Cell Type > Markdown\n",
    "   - Markdown syntax: http://nestacms.com/docs/creating-content/markdown-cheat-sheet\n",
    "\n",
    "#### Resources\n",
    "\n",
    "+ Information and data sources: http://www.amstat.org/publications/jse/datasets/normtemp.txt, http://www.amstat.org/publications/jse/jse_data_archive.htm\n",
    "+ Markdown syntax: http://nestacms.com/docs/creating-content/markdown-cheat-sheet\n",
    "\n",
    "****"
   ]
  },
  {
   "cell_type": "code",
   "execution_count": 43,
   "metadata": {
    "collapsed": true
   },
   "outputs": [],
   "source": [
    "import pandas as pd\n",
    "import numpy as np\n",
    "from scipy import stats\n",
    "from scipy.stats import kurtosis\n",
    "from scipy.stats import skew\n",
    "from scipy.stats import skewtest\n",
    "from scipy.stats import  kurtosistest\n",
    "from scipy.stats import  normaltest\n",
    "from scipy.stats import ttest_1samp\n",
    "from scipy.stats import ttest_ind \n"
   ]
  },
  {
   "cell_type": "code",
   "execution_count": 44,
   "metadata": {
    "collapsed": false
   },
   "outputs": [
    {
     "data": {
      "text/html": [
       "<div>\n",
       "<table border=\"1\" class=\"dataframe\">\n",
       "  <thead>\n",
       "    <tr style=\"text-align: right;\">\n",
       "      <th></th>\n",
       "      <th>temperature</th>\n",
       "      <th>gender</th>\n",
       "      <th>heart_rate</th>\n",
       "    </tr>\n",
       "  </thead>\n",
       "  <tbody>\n",
       "    <tr>\n",
       "      <th>0</th>\n",
       "      <td>99.3</td>\n",
       "      <td>F</td>\n",
       "      <td>68</td>\n",
       "    </tr>\n",
       "    <tr>\n",
       "      <th>1</th>\n",
       "      <td>98.4</td>\n",
       "      <td>F</td>\n",
       "      <td>81</td>\n",
       "    </tr>\n",
       "    <tr>\n",
       "      <th>2</th>\n",
       "      <td>97.8</td>\n",
       "      <td>M</td>\n",
       "      <td>73</td>\n",
       "    </tr>\n",
       "    <tr>\n",
       "      <th>3</th>\n",
       "      <td>99.2</td>\n",
       "      <td>F</td>\n",
       "      <td>66</td>\n",
       "    </tr>\n",
       "    <tr>\n",
       "      <th>4</th>\n",
       "      <td>98.0</td>\n",
       "      <td>F</td>\n",
       "      <td>73</td>\n",
       "    </tr>\n",
       "  </tbody>\n",
       "</table>\n",
       "</div>"
      ],
      "text/plain": [
       "   temperature gender  heart_rate\n",
       "0         99.3      F          68\n",
       "1         98.4      F          81\n",
       "2         97.8      M          73\n",
       "3         99.2      F          66\n",
       "4         98.0      F          73"
      ]
     },
     "execution_count": 44,
     "metadata": {},
     "output_type": "execute_result"
    }
   ],
   "source": [
    "df = pd.read_csv('data/human_body_temperature.csv')\n",
    "df.head(5)\n"
   ]
  },
  {
   "cell_type": "markdown",
   "metadata": {
    "collapsed": false
   },
   "source": [
    "## Is the distribution of body temperatures normal?"
   ]
  },
  {
   "cell_type": "code",
   "execution_count": 45,
   "metadata": {
    "collapsed": false
   },
   "outputs": [
    {
     "name": "stdout",
     "output_type": "stream",
     "text": [
      "Kurtosis is  3.7049597854114693\n",
      "Skew is  -0.004367976879081625\n",
      "P values  0.258747986349\n"
     ]
    }
   ],
   "source": [
    "## If the distribution is normal then kurtosis will be 3 and skew = 0\n",
    "k = kurtosis( df['temperature'] , axis=0, fisher=False, bias=True) \n",
    "s = skew(df['temperature'], axis=0, bias=True)\n",
    "print ('Kurtosis is ' , k)\n",
    "print ('Skew is ' ,s)\n",
    "\n",
    "z,p = normaltest(df.temperature)\n",
    "\n",
    "print ( 'P values ', p )       "
   ]
  },
  {
   "cell_type": "markdown",
   "metadata": {
    "collapsed": false
   },
   "source": [
    "Here P values is greater than 5%  , so distribution is normal . also skew is near to 0 and kurtosis is equal to 3. From this we can say that the distibution is normal\n"
   ]
  },
  {
   "cell_type": "markdown",
   "metadata": {
    "collapsed": false
   },
   "source": [
    "## Is the true population mean really 98.6 degrees F\n",
    "Null Hypothesis : Mean will be equal to  98.6\n",
    "Alternative Hypothesis : Mean will not be equal to 98.6\n",
    " \n"
   ]
  },
  {
   "cell_type": "code",
   "execution_count": 52,
   "metadata": {
    "collapsed": false
   },
   "outputs": [
    {
     "data": {
      "text/plain": [
       "(-5.4548232923645195, 2.4106320415561276e-07)"
      ]
     },
     "execution_count": 52,
     "metadata": {},
     "output_type": "execute_result"
    }
   ],
   "source": [
    "from statsmodels.stats.weightstats import ztest\n",
    "ztest(df.temperature,value=98.6)\n",
    "\n",
    "statistic ,pvalue =  ttest_1samp(df.temperature,98.6)\n",
    " \n",
    "statistic ,pvalue\n"
   ]
  },
  {
   "cell_type": "markdown",
   "metadata": {
    "collapsed": true
   },
   "source": [
    " In Both case pvalue is greater than .05 . so we can reject the null hypothesis\n",
    " "
   ]
  },
  {
   "cell_type": "markdown",
   "metadata": {
    "collapsed": true
   },
   "source": [
    "## At what temperature should we consider someone's temperature to be \"abnormal\"?"
   ]
  },
  {
   "cell_type": "code",
   "execution_count": 53,
   "metadata": {
    "collapsed": false
   },
   "outputs": [
    {
     "data": {
      "text/plain": [
       "(98.123679804428193, 98.374781734033363)"
      ]
     },
     "execution_count": 53,
     "metadata": {},
     "output_type": "execute_result"
    }
   ],
   "source": [
    "mean = np.mean(df.temperature)\n",
    "mean\n",
    "sem =   stats.sem(df.temperature, axis=None, ddof=0) \n",
    "\n",
    "\n",
    "lower_bound = mean - 1.96* sem\n",
    "upper_bound = mean + 1.96* sem\n",
    "\n",
    "lower_bound , upper_bound"
   ]
  },
  {
   "cell_type": "markdown",
   "metadata": {
    "collapsed": true
   },
   "source": [
    "So Any  temperature  less then 98.123679804428193 and greater than 98.374781734033363 will be Abnormal"
   ]
  },
  {
   "cell_type": "markdown",
   "metadata": {},
   "source": [
    "## Is there a significant difference between males and females in normal temperature"
   ]
  },
  {
   "cell_type": "markdown",
   "metadata": {},
   "source": [
    "Null Hypothesis : there is no difference between males and females in normal temperature.\n",
    "Alternative Hypothesis : there is difference between Male and Females in Normal Temperature \n"
   ]
  },
  {
   "cell_type": "code",
   "execution_count": 54,
   "metadata": {
    "collapsed": false
   },
   "outputs": [
    {
     "data": {
      "text/plain": [
       "(2.2854345381656103, 1.984, 0.023931883122395609)"
      ]
     },
     "execution_count": 54,
     "metadata": {},
     "output_type": "execute_result"
    }
   ],
   "source": [
    "temp_females = df.temperature[df.gender=='F']\n",
    "temp_males  =  df.temperature[df.gender=='M']\n",
    "t_static , pvalues = ttest_ind(temp_females,temp_males)\n",
    "## t_critical values in at @ = .05 . For two tailed test @ -  .025\n",
    "t_critical = 1.984\n",
    "\n",
    "t_static , t_critical , pvalues\n",
    " \n",
    "\n"
   ]
  },
  {
   "cell_type": "markdown",
   "metadata": {},
   "source": [
    " The two-tailed P value equals 0.0239\n",
    " By conventional criteria, this difference is considered to be statistically significant. \n",
    " So We can reject the null hypothesis . \n",
    " Hence there is signigicant diffrence in mean temperature between man and woman\n",
    " "
   ]
  },
  {
   "cell_type": "code",
   "execution_count": null,
   "metadata": {
    "collapsed": true
   },
   "outputs": [],
   "source": []
  },
  {
   "cell_type": "code",
   "execution_count": null,
   "metadata": {
    "collapsed": true
   },
   "outputs": [],
   "source": []
  },
  {
   "cell_type": "code",
   "execution_count": null,
   "metadata": {
    "collapsed": true
   },
   "outputs": [],
   "source": []
  }
 ],
 "metadata": {
  "kernelspec": {
   "display_name": "Python 3",
   "language": "python",
   "name": "python3"
  },
  "language_info": {
   "codemirror_mode": {
    "name": "ipython",
    "version": 3
   },
   "file_extension": ".py",
   "mimetype": "text/x-python",
   "name": "python",
   "nbconvert_exporter": "python",
   "pygments_lexer": "ipython3",
   "version": "3.5.1"
  }
 },
 "nbformat": 4,
 "nbformat_minor": 0
}
