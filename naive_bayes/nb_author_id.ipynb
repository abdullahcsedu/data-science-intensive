{
 "cells": [
  {
   "cell_type": "code",
   "execution_count": 1,
   "metadata": {
    "collapsed": false
   },
   "outputs": [
    {
     "name": "stdout",
     "output_type": "stream",
     "text": [
      "('no. of Chris training emails:', 7936)\n",
      "('no. of Sara training emails:', 7884)\n",
      "Start here\n",
      "Training Time  2.307\n",
      "Prediction Time  0.333\n",
      "accuracy is 0.973265073948\n"
     ]
    }
   ],
   "source": [
    " \n",
    "import sys\n",
    "import numpy\n",
    "from sklearn.naive_bayes import GaussianNB\n",
    "from time import time\n",
    "sys.path.append(\"../tools/\")\n",
    "from email_preprocess import preprocess\n",
    "from sklearn.metrics import accuracy_score\n",
    "\n",
    "\n",
    "### features_train and features_test are the features for the training\n",
    "### and testing datasets, respectively\n",
    "### labels_train and labels_test are the corresponding item labels\n",
    "features_train, features_test, labels_train, labels_test = preprocess()\n",
    "\n",
    "\n",
    "\n",
    "\n",
    "#########################################################\n",
    "### your code goes here ###\n",
    "print \"Start here\"\n",
    "clf = GaussianNB()\n",
    "start_time_train = time()\n",
    "clf.fit(features_train ,labels_train ) \n",
    "end_time_train =  time() \n",
    "print \"Training Time \" , round (end_time_train - start_time_train  , 3 )\n",
    "\n",
    "start_time_pred = time()\n",
    "pred = clf.predict(features_test)\n",
    "end_time_pred =  time() \n",
    "print \"Prediction Time \" , round (end_time_pred - start_time_pred  , 3 )\n",
    "accuracy = accuracy_score(  pred  , labels_test )\n",
    "#########################################################\n",
    "\n",
    "print \"accuracy is\" , accuracy\n",
    " "
   ]
  },
  {
   "cell_type": "code",
   "execution_count": null,
   "metadata": {
    "collapsed": true
   },
   "outputs": [],
   "source": []
  },
  {
   "cell_type": "code",
   "execution_count": null,
   "metadata": {
    "collapsed": true
   },
   "outputs": [],
   "source": []
  }
 ],
 "metadata": {
  "kernelspec": {
   "display_name": "Python 2",
   "language": "python",
   "name": "python2"
  },
  "language_info": {
   "codemirror_mode": {
    "name": "ipython",
    "version": 2
   },
   "file_extension": ".py",
   "mimetype": "text/x-python",
   "name": "python",
   "nbconvert_exporter": "python",
   "pygments_lexer": "ipython2",
   "version": "2.7.11"
  }
 },
 "nbformat": 4,
 "nbformat_minor": 0
}
